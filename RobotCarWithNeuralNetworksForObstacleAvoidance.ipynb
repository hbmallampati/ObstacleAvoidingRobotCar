{
  "nbformat": 4,
  "nbformat_minor": 0,
  "metadata": {
    "colab": {
      "name": "Hima_Project_6_Assignment_TrainMLP.ipynb",
      "provenance": [],
      "collapsed_sections": []
    },
    "kernelspec": {
      "name": "python3",
      "display_name": "Python 3"
    },
    "language_info": {
      "name": "python"
    }
  },
  "cells": [
    {
      "cell_type": "code",
      "execution_count": 10,
      "metadata": {
        "id": "QZuy26weVxhK",
        "colab": {
          "base_uri": "https://localhost:8080/",
          "height": 88
        },
        "outputId": "8ca86a0c-d3bd-4c07-f63f-efb72b0d2eb7"
      },
      "outputs": [
        {
          "output_type": "stream",
          "name": "stdout",
          "text": [
            "HiddenWeights[0]: [-5.48946953  1.79843336 -5.48904302  2.63161777]\n",
            "HiddenWeights[1]: [-2.12141129  5.63063218  5.10045449 -2.47041614]\n",
            "OutputWeights[0]: [11.39633025 -0.17340758 -5.68432156]\n",
            "OutputWeights[1]: [  0.58482886 -11.3629417    5.32837447]\n"
          ]
        },
        {
          "output_type": "display_data",
          "data": {
            "text/plain": [
              "<IPython.core.display.Javascript object>"
            ],
            "application/javascript": [
              "\n",
              "    async function download(id, filename, size) {\n",
              "      if (!google.colab.kernel.accessAllowed) {\n",
              "        return;\n",
              "      }\n",
              "      const div = document.createElement('div');\n",
              "      const label = document.createElement('label');\n",
              "      label.textContent = `Downloading \"${filename}\": `;\n",
              "      div.appendChild(label);\n",
              "      const progress = document.createElement('progress');\n",
              "      progress.max = size;\n",
              "      div.appendChild(progress);\n",
              "      document.body.appendChild(div);\n",
              "\n",
              "      const buffers = [];\n",
              "      let downloaded = 0;\n",
              "\n",
              "      const channel = await google.colab.kernel.comms.open(id);\n",
              "      // Send a message to notify the kernel that we're ready.\n",
              "      channel.send({})\n",
              "\n",
              "      for await (const message of channel.messages) {\n",
              "        // Send a message to notify the kernel that we're ready.\n",
              "        channel.send({})\n",
              "        if (message.buffers) {\n",
              "          for (const buffer of message.buffers) {\n",
              "            buffers.push(buffer);\n",
              "            downloaded += buffer.byteLength;\n",
              "            progress.value = downloaded;\n",
              "          }\n",
              "        }\n",
              "      }\n",
              "      const blob = new Blob(buffers, {type: 'application/binary'});\n",
              "      const a = document.createElement('a');\n",
              "      a.href = window.URL.createObjectURL(blob);\n",
              "      a.download = filename;\n",
              "      div.appendChild(a);\n",
              "      a.click();\n",
              "      div.remove();\n",
              "    }\n",
              "  "
            ]
          },
          "metadata": {}
        },
        {
          "output_type": "display_data",
          "data": {
            "text/plain": [
              "<IPython.core.display.Javascript object>"
            ],
            "application/javascript": [
              "download(\"download_e127775c-674c-41bc-87f4-35b0056b1e86\", \"MLP_weights.csv\", 268)"
            ]
          },
          "metadata": {}
        }
      ],
      "source": [
        "import numpy as np\n",
        "import numpy.matlib\n",
        "import pandas as pd\n",
        "\n",
        "InputNodes = 3\n",
        "HiddenNodes = 2\n",
        "OutputNodes = 2\n",
        "\n",
        "Input = np.array([[0,0,0],\n",
        "                  [0,0,1],\n",
        "                  [0,1,0],\n",
        "                  [1,0,0]])\n",
        "\n",
        "Target = np.array([[1,1],\n",
        "                   [0,0],\n",
        "                   [1,0],\n",
        "                   [0,1]])\n",
        "\n",
        "Hidden = np.zeros((HiddenNodes,1))\n",
        "Output = np.zeros((OutputNodes,1))\n",
        "\n",
        "# Initialize the weights randomly with a seed\n",
        "rng = np.random.default_rng(seed=12)\n",
        "HiddenWeights = rng.random((HiddenNodes, InputNodes+1))\n",
        "HW1 = HiddenWeights[:, 0:3]\n",
        "B1 = HiddenWeights[:, 3]\n",
        "\n",
        "OutputWeights = rng.random((OutputNodes, HiddenNodes+1))\n",
        "OW1 = OutputWeights[:, 0:2]\n",
        "B2 = OutputWeights[:, 2]\n",
        "\n",
        "learning_rate = 0.1\n",
        "\n",
        "################################################################### \n",
        "\n",
        "for epoch in range(150000):\n",
        "  A1 = np.dot(Input, HW1.T) + B1\n",
        "  Z1 = 1/(1+np.exp(-A1))\n",
        "\n",
        "  A2 = np.dot(Z1, OW1) + B2\n",
        "  Z2 = 1/(1 + np.exp(-A2))\n",
        "\n",
        "  E = ((Target - Z2)**2).sum() / (2)\n",
        "\n",
        "  E1 = Z2 - Target\n",
        "  dW1 = E1 * Z2 * (1 - Z2)\n",
        "\n",
        "  E2 = np.dot(dW1, OW1.T)\n",
        "  dW2 = E2 * Z1 * (1 - Z1)\n",
        "\n",
        "  dB1 = np.sum(dW2, axis = 0, keepdims = True)\n",
        "  dB2 = np.sum(E1, axis = 0, keepdims = True)\n",
        "\n",
        "  W1_update = np.dot(Input.T, dW2) \n",
        "  W2_update = np.dot(Z1.T, dW1) \n",
        "\n",
        "  OW1 = OW1-learning_rate * W2_update\n",
        "  HW1 = HW1-learning_rate * W1_update.T\n",
        "\n",
        "  B1 = B1 - dB1\n",
        "  B2 = B2 - dB2\n",
        "  \n",
        "  OutputWeights=np.transpose(np.append(OW1,B2, axis=0))\n",
        "  \n",
        "  HiddenWeights=np.transpose(np.append(HW1.T, B1,axis=0))\n",
        "\n",
        "\n",
        "###################################################################\n",
        "\n",
        "## Print Hidden Weights and Output Weights\n",
        "for i in range(HiddenNodes):\n",
        "  print('HiddenWeights[{}]: {}'.format(i, HiddenWeights[i,:]))\n",
        "\n",
        "for i in range(OutputNodes):\n",
        "  print('OutputWeights[{}]: {}'.format(i, OutputWeights[i,:]))\n",
        "\n",
        "## Save Hidden Weights and Output Weights to .csv file\n",
        "df = pd.concat([pd.DataFrame(HiddenWeights), pd.DataFrame(OutputWeights)])\n",
        "df.to_csv('MLP_weights.csv', index=False, header=False)\n",
        "\n",
        "## Download to local directory\n",
        "from google.colab import files\n",
        "files.download('MLP_weights.csv') "
      ]
    }
  ]
}